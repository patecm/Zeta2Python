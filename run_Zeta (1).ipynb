{
 "cells": [
  {
   "cell_type": "markdown",
   "metadata": {},
   "source": [
    "# Initialize"
   ]
  },
  {
   "cell_type": "code",
   "execution_count": 1,
   "metadata": {},
   "outputs": [],
   "source": [
    "import ipywidgets as widgets\n",
    "import numpy as np\n",
    "import pandas as pd\n",
    "import os\n",
    "import datetime\n",
    "import re\n",
    "import csv\n",
    "from IPython.display import display, HTML"
   ]
  },
  {
   "cell_type": "code",
   "execution_count": 2,
   "metadata": {},
   "outputs": [],
   "source": [
    "# Read elements.csv file \n",
    "# Contains elemental info and K_a windows\n",
    "elements = pd.read_csv('elements2.csv')\n",
    "elements.drop(elements.index[0], inplace=True)\n",
    "elements = elements.set_index('Name')"
   ]
  },
  {
   "cell_type": "markdown",
   "metadata": {},
   "source": [
    "# User Interface <a class=\"tocSkip\">"
   ]
  },
  {
   "cell_type": "code",
   "execution_count": 3,
   "metadata": {
    "tags": [
     "hide_input"
    ]
   },
   "outputs": [],
   "source": [
    "# Create list for elements boxes format: AtomicNumber - Name\n",
    "sample_elements_list = []\n",
    "for i in elements.index.values:\n",
    "    sample_elements_list.append(f\"{int(elements.loc[i]['Number'])} - {i}\")"
   ]
  },
  {
   "cell_type": "code",
   "execution_count": 4,
   "metadata": {},
   "outputs": [],
   "source": [
    "'''\n",
    "Set up for GUI to enter in data.\n",
    "Outputs (access values with name.value)\n",
    "sample_set, material_system, density\n",
    "sample_elements, probe_current, GB_calcs.value\n",
    "emsa_folder, sigmaK_file, flash_time\n",
    "'''\n",
    "\n",
    "# Sample Description\n",
    "sample_set = widgets.Text(\n",
    "    value='B4C Grain Boundaries',\n",
    "    placeholder='Type something',\n",
    "    description='Sample Description:',\n",
    "    style={'description_width': 'initial'},\n",
    "    disabled=False\n",
    ")\n",
    "# Material System\n",
    "material_system = widgets.Text(\n",
    "    value='B4CMEDE',\n",
    "    placeholder='Type something',\n",
    "    description='Material System:',\n",
    "    style={'description_width': 'initial'},\n",
    "    disabled=False\n",
    ")\n",
    "# Density \n",
    "density = widgets.FloatText(\n",
    "    value=2.52,\n",
    "    description='Density (g/cm3):',\n",
    "    style={'description_width': 'initial'},\n",
    "    disabled=False\n",
    ")\n",
    "# Elements for Atomic Numbers\n",
    "sample_elements = widgets.SelectMultiple(\n",
    "    options=list(elements.sort_index().index),\n",
    "    value=['Boron', 'Carbon', 'Oxygen', 'Silicon'],\n",
    "    rows=8,\n",
    "    description='Elements in Sample:',\n",
    "    style={'description_width': 'initial'},\n",
    "    disabled=False\n",
    ")\n",
    "\n",
    "#Flash time hour and minutes\n",
    "flash_minutes = widgets.BoundedIntText(\n",
    "    value=13,\n",
    "    min=0,\n",
    "    max=24,\n",
    "    step=1,\n",
    "    description='Mins (0-60):',\n",
    "    disabled=False\n",
    ")\n",
    "\n",
    "flash_seconds = widgets.BoundedIntText(\n",
    "    value=5,\n",
    "    min=0,\n",
    "    max=59,\n",
    "    step=1,\n",
    "    description='Sec (0-59):',\n",
    "    disabled=False\n",
    ")\n",
    "# Probe Current\n",
    "probe_current = widgets.FloatText(\n",
    "    value=190,\n",
    "    description='Probe Current (pA):',\n",
    "    style={'description_width': 'initial'},\n",
    "    disabled=False\n",
    ")\n",
    "# Checkbox for GB Excess Calcs\n",
    "GB_calcs = widgets.Checkbox(\n",
    "    value=False,\n",
    "    description='Check to Include GB Excess Calculations',\n",
    "    style={'description_width': 'initial'},\n",
    "    disabled=False\n",
    ")\n",
    "\n",
    "# Folder where emsa files are\n",
    "emsa_folder = widgets.Text(\n",
    "    value='./emsa_files',\n",
    "    placeholder='Type something',\n",
    "    description='EMSA files location:',\n",
    "    style={'description_width': 'initial'},\n",
    "    disabled=False\n",
    ")\n",
    "\n",
    "# Location of 2sigmaK file\n",
    "sigmaK_file = widgets.Text(\n",
    "    value='2sigmaK.zfe',\n",
    "    placeholder='Type something',\n",
    "    description='Name of 2sigmaK file:',\n",
    "    style={'description_width': 'initial'},\n",
    "    disabled=False\n",
    ")\n",
    "# Mn Peak Energy\n",
    "Mn_peak_energy = widgets.FloatText(\n",
    "    value=5898,\n",
    "    description='Mn Peak Energy (eV):',\n",
    "    style={'description_width': 'initial'},\n",
    "    disabled=True\n",
    ")\n",
    "# Mn FWHM\n",
    "Mn_FWHM = widgets.FloatText(\n",
    "    value=131.6,\n",
    "    description='Mn FWHM:',\n",
    "    style={'description_width': 'initial'},\n",
    "    disabled=True\n",
    ")"
   ]
  },
  {
   "cell_type": "markdown",
   "metadata": {},
   "source": [
    "## Display Gui Below"
   ]
  },
  {
   "cell_type": "code",
   "execution_count": 5,
   "metadata": {},
   "outputs": [
    {
     "data": {
      "application/vnd.jupyter.widget-view+json": {
       "model_id": "df2605d4707a4d73bbdda63bf55b26b5",
       "version_major": 2,
       "version_minor": 0
      },
      "text/plain": [
       "VBox(children=(HBox(children=(VBox(children=(Text(value='B4CMEDE', description='Material System:', placeholder…"
      ]
     },
     "metadata": {},
     "output_type": "display_data"
    }
   ],
   "source": [
    "'''\n",
    "Creates User Interface to enter in data.\n",
    "Outputs (access values with name.value)\n",
    "sample_set, material_system, density\n",
    "sample_elements, probe_current, \n",
    "emsa_folder, sigmaK_file, flash_minutes,\n",
    "flash seconds, Mn_peak_energy, Mn_FWHM\n",
    "\n",
    "GB_calcs (checkbox)\n",
    "'''\n",
    "leftbox = widgets.VBox([material_system, sample_set, density, probe_current])\n",
    "rightbox = widgets.VBox([sample_elements])\n",
    "# Combine left and right box\n",
    "topbox = widgets.HBox([leftbox, rightbox])\n",
    "# Add flashtime box with label\n",
    "middlebox1 = widgets.HBox([widgets.Label('Flash time: '),flash_minutes, flash_seconds])\n",
    "middlebox2 = widgets.HBox([Mn_peak_energy, Mn_FWHM])\n",
    "bottombox = widgets.HBox([emsa_folder, sigmaK_file])\n",
    "#stack top and bottom box\n",
    "interface = widgets.VBox([topbox, middlebox1, middlebox2, bottombox, GB_calcs])\n",
    "display(interface)"
   ]
  },
  {
   "cell_type": "markdown",
   "metadata": {},
   "source": [
    "# Read file info"
   ]
  },
  {
   "cell_type": "markdown",
   "metadata": {},
   "source": [
    "## Read ZFE   "
   ]
  },
  {
   "cell_type": "code",
   "execution_count": 6,
   "metadata": {},
   "outputs": [],
   "source": [
    "\"\"\"\n",
    "Reads .zfe file, skips comment headers preceded by # in readZFE(),\n",
    "Parses and extracts data from each line in splitdata()\n",
    "Returns dataframe of zfe file info\n",
    "\n",
    "Input: 'sigmaK_file.value'\n",
    "Output: \n",
    "Dataframe of \n",
    "'atomic number','line', 'energy', 'zeta', 'zeta error'\n",
    "with energy in (eV) and zeta factor in (kg/m2 electron/photon)\n",
    "\"\"\"\n",
    "def ZFE(filename):\n",
    "        \n",
    "    def readZFE(filename):\n",
    "            # OpenZFE file and read into list\n",
    "        with open(filename, 'r') as f:\n",
    "            # Skip initial comments that starts with #\n",
    "            while True:\n",
    "                line = f.readline()\n",
    "                # break while statement if it is not a comment line\n",
    "                # i.e. does not startwith #\n",
    "                if line.startswith('# -z'):\n",
    "                    break\n",
    "            # Process the rest of the file\n",
    "            filedata = f.read().splitlines()\n",
    "        return(splitdata(filedata))\n",
    "\n",
    "    def splitdata(data):\n",
    "        temp = []\n",
    "        # Define column headers\n",
    "        header = ['atomic number','line', 'energy', 'zeta', 'zeta error']\n",
    "        for line in data:\n",
    "            temp.append([line.split()[1], line.split()[3], line.split()[4],\n",
    "                                   line.split()[5], line.split()[7]])\n",
    "        dfZFE = pd.DataFrame(temp, columns=header)\n",
    "        # Set columns to correct datatypes\n",
    "        dfZFE = dfZFE.astype({'atomic number':'int32', 'line':'str', 'energy':'float32',\n",
    "                     'zeta':'float32', 'zeta error':'float32'})\n",
    "        #Multiply energy by 1000\n",
    "        dfZFE['energy'] = dfZFE['energy']*1000\n",
    "        return(dfZFE)\n",
    "    \n",
    "    ZFEdata = readZFE(filename)\n",
    "    return(ZFEdata)"
   ]
  },
  {
   "cell_type": "markdown",
   "metadata": {},
   "source": [
    "## Read EMSA files\n",
    "Reads EMSA spectrums into a dataframe  \n",
    "Returns: Spectrum info and metadata"
   ]
  },
  {
   "cell_type": "code",
   "execution_count": 7,
   "metadata": {},
   "outputs": [],
   "source": [
    "'''\n",
    "Input: open EMSA file, EMSAfilename from getEMSA\n",
    "Output: array of metadata from file\n",
    "'''\n",
    "def getMetadata(open_file, filename):\n",
    "    cols = ['collection_date', 'acq_time', 'x_tilt', 'y_tilt','live_time']\n",
    "    info = []\n",
    "    while True:\n",
    "        line = open_file.readline()\n",
    "        if line.startswith(('#DATE', '#XTILTSTG','#YTILTSTGE', '#TIME','#LIVETIME')):\n",
    "            # Remove newline return at end\n",
    "            line = line.rstrip('\\n')\n",
    "            info.append(line.split(': ', 1)[1])\n",
    "        if line.startswith('#SPECTRUM'):\n",
    "            break\n",
    "    #Fix missing zeros in time formatting\n",
    "    info = [sub.replace(': ', ':0') for sub in info]\n",
    "    #Convert to DataFrame\n",
    "    info = pd.DataFrame([info], columns=cols, index={filename:1})\n",
    "    # Convert acq to seconds\n",
    "    info['acq_time'] = pd.to_timedelta(info['acq_time'][0], unit='h').total_seconds() / 60\n",
    "    \n",
    "    # Format as datetime\n",
    "    #info[info]\n",
    "    #date_time_obj = datetime.datetime.strptime(metadata[2][1], '%H:%M:%S')\n",
    "    \n",
    "    return(info)"
   ]
  },
  {
   "cell_type": "code",
   "execution_count": 8,
   "metadata": {},
   "outputs": [],
   "source": [
    "'''\n",
    "Input: open EMSA file, EMSAfilename from getEMSA\n",
    "Output: dataframe of spectrum from file\n",
    "'''\n",
    "# Create dataframe with column names as energy bins and index as filename\n",
    "def getSpectra(open_file, filename):\n",
    "    # Read files data\n",
    "    spectrum = pd.read_csv(open_file, header=None, usecols=[0,1])\n",
    "   \n",
    "    # Delete Rows with NA (eg: #END OF FILE)\n",
    "    spectrum = spectrum[~spectrum[0].str.contains(\"#\")]\n",
    "    spectrum[0] = spectrum[0].astype(float) #Remove excess zeros in bins\n",
    "    spectrum = spectrum.T\n",
    "        \n",
    "    # Make Column names=bin (eV), data=counts, index=filename\n",
    "    spectrum.columns = spectrum.iloc[0]\n",
    "    spectrum.drop(0, inplace=True)\n",
    "    \n",
    "    # Make index the file name\n",
    "    spectrum.rename(index={1:filename}, inplace=True)\n",
    "    return(spectrum)"
   ]
  },
  {
   "cell_type": "code",
   "execution_count": 9,
   "metadata": {},
   "outputs": [],
   "source": [
    "'''\n",
    "Input: EMSA_folder input from GUI\n",
    "Output: list of EMSA filenames, dataframe metadata, dataframe of spectrum\n",
    "'''\n",
    "def getEMSA(emsa_folder):\n",
    "    # Select on files that end in .emsa in the provided directory\n",
    "    emsa_names = [f for f in os.listdir(emsa_folder.value) if f.endswith('.emsa')]\n",
    "    metadata = pd.DataFrame()\n",
    "    spectrum = pd.DataFrame()\n",
    "    #Loop thru files - get metadata and spectra\n",
    "    for filename in emsa_names:\n",
    "        with open(os.path.join(emsa_folder.value + '/' + filename), 'r') as f:\n",
    "            #Get Metadata from the file\n",
    "            metadata= metadata.append(getMetadata(f, filename))\n",
    "            \n",
    "            # Get Spectra\n",
    "            spectrum = spectrum.append(getSpectra(f, filename))\n",
    "    return(emsa_names, metadata, spectrum)"
   ]
  },
  {
   "cell_type": "markdown",
   "metadata": {},
   "source": [
    "## Run File Reading Scripts"
   ]
  },
  {
   "cell_type": "code",
   "execution_count": 10,
   "metadata": {},
   "outputs": [],
   "source": [
    "# Read ZFE file\n",
    "# columns: atomic number, line, energy, zeta, zeta error\n",
    "zfe_data = ZFE(sigmaK_file.value)\n",
    "\n",
    "# Read EMSA files\n",
    "# emsa_filenames - list of filenames in order they're read in\n",
    "# Indexed by filename:\n",
    "# metadata - collection_date, acq_time,x_tilt,y_tilt,live_time\n",
    "# spectrum - header is in eV\n",
    "emsa_filenames, metadata, spectrum = getEMSA(emsa_folder)"
   ]
  },
  {
   "cell_type": "markdown",
   "metadata": {},
   "source": [
    "## Check Live Time and Tilt"
   ]
  },
  {
   "cell_type": "code",
   "execution_count": 11,
   "metadata": {},
   "outputs": [
    {
     "data": {
      "text/html": [
       "<script>window.alert('Spectrum Error: Not all the x-tilts are the same');</script>"
      ],
      "text/plain": [
       "<IPython.core.display.HTML object>"
      ]
     },
     "metadata": {},
     "output_type": "display_data"
    }
   ],
   "source": [
    "# Check that the live time and the microscope x-tilt and y-tilts are the same for all spectra\n",
    "# These parameters must be constant to generate accurate results, so if\n",
    "# they are not constant an error message is display\n",
    "\n",
    "if len(metadata['live_time'].astype(float).round(1).unique()) !=1: \n",
    "    display(HTML(\"<script>window.alert('Spectrum Error: Not all the live times are the same');</script>\"))\n",
    "if len(metadata['x_tilt'].astype(float).unique()) !=1: \n",
    "    display(HTML(\"<script>window.alert('Spectrum Error: Not all the x-tilts are the same');</script>\"))\n",
    "if len(metadata['y_tilt'].astype(float).unique()) !=1: \n",
    "    display(HTML(\"<script>window.alert('Spectrum Error: Not all the y-tilts are the same');</script>\"))"
   ]
  },
  {
   "cell_type": "markdown",
   "metadata": {},
   "source": [
    "# Calculate Counts"
   ]
  },
  {
   "cell_type": "markdown",
   "metadata": {},
   "source": [
    "## Get windows from 'elements'"
   ]
  },
  {
   "cell_type": "code",
   "execution_count": 12,
   "metadata": {},
   "outputs": [],
   "source": [
    "# Fetches the window ranges from 'elements', originally from elements.csv\n",
    "# Indexed by element\n",
    "# Order of columns: window_start, window_end, background1, background2, background3...etc\n",
    "num_cols = np.size(eval(elements.loc[sample_elements.value, material_system.value][0]))\n",
    "windows = pd.DataFrame(columns=[list([i for i in range(num_cols)])])\n",
    "for i in sample_elements.value:\n",
    "    row = eval(elements.loc[i][material_system.value])\n",
    "    windows.loc[i,:] = list(np.array(row).flat)\n",
    "# Adjust starting window\n",
    "windows = windows.round(2)"
   ]
  },
  {
   "cell_type": "markdown",
   "metadata": {},
   "source": [
    "## Get Counts"
   ]
  },
  {
   "cell_type": "code",
   "execution_count": 13,
   "metadata": {},
   "outputs": [],
   "source": [
    "counts = pd.DataFrame()\n",
    "for i in sample_elements.value:\n",
    "    w1 = np.round(windows.loc[i, 0].values[0], 2) # Start of peak\n",
    "    w2 = np.round(windows.loc[i, 1].values[0], 2) # End of peak window\n",
    "    counts.loc[:, f\"{i}_peak\"] = spectrum.loc[:, w1:w2].sum(axis=1)\n",
    "    \n",
    "    # Background counts\n",
    "    b1start = np.round(windows.loc[i, 2].values[0], 2)\n",
    "    b1end = np.round(windows.loc[i, 3].values[0], 2)\n",
    "    b1 = spectrum.loc[:, b1start:b1end].sum(axis=1)\n",
    "    \n",
    "    b2start = np.round(windows.loc[i, 4].values[0], 2)\n",
    "    b2end = np.round(windows.loc[i, 5].values[0], 2)\n",
    "    b2 = spectrum.loc[:, b2start:b2end].sum(axis=1)\n",
    "    \n",
    "    counts.loc[:, f\"{i}_background\"] = (b1 + b2)/2\n",
    "    \n",
    "    # Raw intensity values\n",
    "    stat_factor =  counts[f\"{i}_peak\"] - counts[f\"{i}_background\"]\n",
    "    # Check if statistically significant background\n",
    "    stat_factor.where(stat_factor > 3*np.sqrt(2*counts[f\"{i}_background\"]), 0)\n",
    "    raw_peak_intensity = counts[f\"{i}_peak\"] - counts[f\"{i}_background\"]\n",
    "\n",
    "    # Correct Peak Intensity\n",
    "    current_decay_time = metadata['acq_time'] - (flash_minutes.value*60 + flash_seconds.value)\n",
    "    current_adjustment = 189/(189 - 0.086*current_decay_time);\n",
    "    peak_intensity = raw_peak_intensity * current_adjustment;\n",
    "    counts.loc[:, f\"{i}_peak_intensity\"] = peak_intensity\n",
    "    \n",
    "        "
   ]
  },
  {
   "cell_type": "markdown",
   "metadata": {},
   "source": [
    "# Print FORTRAN Input Files"
   ]
  },
  {
   "cell_type": "markdown",
   "metadata": {},
   "source": [
    "## Print ukn file"
   ]
  },
  {
   "cell_type": "code",
   "execution_count": 14,
   "metadata": {},
   "outputs": [],
   "source": [
    "# Print the counts to a ukn file for zeta factor code\n",
    "# To run the zeta analysis code written by Masashi Watanabe, we had to\n",
    "# create a .ukn (i.e. unknown) file that contains the peak intensities and energy windows\n",
    "\n",
    "with open(f\"{material_system.value}.ukn\", 'w') as output:\n",
    "    writer = csv.writer(output)\n",
    "    \n",
    "    # Print Header\n",
    "    writer.writerow([f'# XEDS spectrum measurements from {material_system.value} {sample_set.value} using ARM200CF at Lehigh University'])\n",
    "    writer.writerow(['# JEOL centurio detector'])\n",
    "    writer.writerow([f\"# Date: {metadata['collection_date'][0]}\"])\n",
    "    writer.writerow([f\"# Acquisition time: {metadata['live_time'][0]}\"])\n",
    "    writer.writerow([f'# Probe Current: {probe_current.value} pA'])\n",
    "    writer.writerow([\"#\"])\n",
    "\n",
    "    # Print the Energy windows and Elements\n",
    "    writer.writerow(['# Energy Window Information'])\n",
    "    for i in sample_elements.value:\n",
    "        ka1 = eval(elements.loc[i][material_system.value])[0][0]\n",
    "        ka2 = eval(elements.loc[i][material_system.value])[0][1]\n",
    "        writer.writerow([f\"# -w {elements.loc[i]['Symbol']}_Ka {ka1}   {ka2}\"])\n",
    "    writer.writerow(['#'])\n",
    "\n",
    "    # Print EMSA File Names\n",
    "    writer.writerow(['# EDS File Names'])\n",
    "    for i in emsa_filenames:\n",
    "        writer.writerow([f\"# {i}\"])\n",
    "    writer.writerow(['# '])\n",
    "\n",
    "    # Print the header row of the counts table \n",
    "    # Based on length of sample_elements.value\n",
    "    output.write(\"# \\t \")\n",
    "    for i in sample_elements.value:\n",
    "        output.write(f\"{elements.loc[i]['Symbol']}_Ka \\t\\t\\t\")\n",
    "    output.write('\\r\\n')\n",
    "    \n",
    "    # Print the background subtracted intensities for each element\n",
    "    # Set decimals to only two places\n",
    "    for emsa in emsa_filenames:\n",
    "        output.write(\"?     \")\n",
    "        for i in sample_elements.value:\n",
    "            value = counts.loc[emsa, f\"{i}_peak_intensity\"]\n",
    "            output.write(\"{:0.2f} \".format(value))\n",
    "        output.write('\\r\\n')\n",
    "            "
   ]
  },
  {
   "cell_type": "markdown",
   "metadata": {},
   "source": [
    "## Print BGI file"
   ]
  },
  {
   "cell_type": "code",
   "execution_count": 15,
   "metadata": {},
   "outputs": [],
   "source": [
    "# Print the counts to a bgi file for zeta factor code\n",
    "# To determine minimum mass fractions, this section outputs the background from each peak to input into the zeta analysis code written by Masashi Watanabe. \n",
    "# Here we create a .bgi (i.e. background intensity) file that contains the peak intensities and energy windows\n",
    "\n",
    "with open(f\"{material_system.value}.bgi\", 'w') as output:\n",
    "    writer = csv.writer(output)\n",
    "    \n",
    "    # Print Header\n",
    "    writer.writerow([f'# XEDS spectrum measurements from {material_system.value} {sample_set.value} using ARM200CF at Lehigh University'])\n",
    "    writer.writerow(['# JEOL centurio detector'])\n",
    "    writer.writerow([f\"# Date: {metadata['collection_date'][0]}\"])\n",
    "    writer.writerow([f\"# Acquisition time: {metadata['live_time'][0]}\"])\n",
    "    writer.writerow([f'# Probe Current: {probe_current.value} pA'])\n",
    "    writer.writerow([\"#\"])\n",
    "\n",
    "    # Print the Energy windows and Elements\n",
    "    writer.writerow(['# Energy Window Information'])\n",
    "    for i in sample_elements.value:\n",
    "        ka1 = eval(elements.loc[i][material_system.value])[0][0]\n",
    "        ka2 = eval(elements.loc[i][material_system.value])[0][1]\n",
    "        writer.writerow([f\"# -w {elements.loc[i]['Symbol']}_Ka {ka1}   {ka2}\"])\n",
    "    writer.writerow(['#'])\n",
    "\n",
    "    # Print EMSA File Names\n",
    "    writer.writerow(['# EDS File Names'])\n",
    "    for i in emsa_filenames:\n",
    "        writer.writerow([f\"# {i}\"])\n",
    "    writer.writerow(['# '])\n",
    "\n",
    "    # Print the header row of the counts table \n",
    "    # Based on length of sample_elements.value\n",
    "    output.write(\"# \\t \")\n",
    "    for i in sample_elements.value:\n",
    "        output.write(f\"{elements.loc[i]['Symbol']}_Ka \\t\\t\\t\")\n",
    "    output.write('\\r\\n')\n",
    "    \n",
    "    # Print the background counts for each element\n",
    "    for emsa in emsa_filenames:\n",
    "        output.write(\"?     \")\n",
    "        for i in sample_elements.value:\n",
    "            value = counts.loc[emsa, f\"{i}_background\"]\n",
    "            output.write(\"{:0.2f} \".format(value))\n",
    "        output.write('\\r\\n')\n"
   ]
  },
  {
   "cell_type": "markdown",
   "metadata": {},
   "source": [
    "## Print TXT file"
   ]
  },
  {
   "cell_type": "code",
   "execution_count": 16,
   "metadata": {
    "scrolled": true
   },
   "outputs": [
    {
     "data": {
      "text/plain": [
       "'22-JUL-2018'"
      ]
     },
     "execution_count": 16,
     "metadata": {},
     "output_type": "execute_result"
    }
   ],
   "source": [
    "metadata['collection_date'][0]"
   ]
  },
  {
   "cell_type": "code",
   "execution_count": 17,
   "metadata": {},
   "outputs": [],
   "source": [
    "\"\"\"\n",
    "Create a text file to run the .zetact code written by Masashi Watanabe \n",
    "\n",
    "Instead of creating a .ukn, manually running the .zetact, and then\n",
    "outputting the data, we create this file to run the .zetact within Matlab\n",
    "\n",
    "All of the input is determined in the sections above and the order of the\n",
    "input must be maintained\n",
    "\"\"\"\n",
    "with open(\"Run_Zeta.txt\", 'w') as output:\n",
    "    writer = csv.writer(output)\n",
    "    \n",
    "    writer.writerow('') # Hit enter key\n",
    "    writer.writerow('1') # type in definition information\n",
    "    writer.writerow([f\"{material_system.value}\"]) # Typer material system for specimen name\n",
    "    writer.writerow([f\"{len(sample_elements.value)}\"]) # Number of elements in sample\n",
    "    \n",
    "    for i in elements.loc[list(sample_elements.value), 'Number']:\n",
    "        writer.writerow([f'{int(i)}']) # Element atomic numbers\n",
    "    writer.writerow('y') # Confirm that the elements are correct\n",
    "    \n",
    "    # if an element Z>19, the code will ask if the intended X-rays are\n",
    "    # K alpha (which we always prefer to use)\n",
    "    for i in elements.loc[list(sample_elements.value), 'Number']:\n",
    "        if (i > 19): writer.writerow('1')\n",
    "    \n",
    "    writer.writerow('y') #  check is x-ray lines are correct\n",
    "    writer.writerow('2') # determine speciman density using harmonic mean\n",
    "    writer.writerow('1') # use Heinrich 1986 for mass absorbtion coefficients (MAC)\n",
    "    writer.writerow('n') # do not check MAC\n",
    "    writer.writerow('y') # DO save definition file\n",
    "    writer.writerow('2') # in the current directory\n",
    "    writer.writerow([f\"{material_system.value}\"]) # save the sample definition file (.dfu) as the material system\n",
    "    \n",
    "    writer.writerow('2') # we do NOT want to define detector parameters\n",
    "    writer.writerow(['arm']) # this name matches the .det file in mwWorld in C:drive\n",
    "    writer.writerow('n') # we do NOT want to change any parameters\n",
    "    \n",
    "    writer.writerow('1') # we want to manually input the experiment conditions\n",
    "    writer.writerow([f\"{metadata['collection_date'][0]}\"]) # enter collection date\n",
    "    writer.writerow(['200'])# enter microscope high tension (i.e. KV)\n",
    "    writer.writerow([f\"{metadata['x_tilt'][0]}\"]) # enter the x-tilt (i.e. alpha tilt in degrees)\n",
    "    writer.writerow([f\"{metadata['y_tilt'][0]}\"]) # enter the y-tile (i.e. beta tilt in degrees)\n",
    "    writer.writerow('n') # we do NOT want to change any values\n",
    "    writer.writerow('n') # we do NOT want to correct for beam drop (we already do so manually in GetCounts)\n",
    "    \n",
    "    writer.writerow([f\"{probe_current.value/1000}\"]) # enter probe current in nA\n",
    "    writer.writerow([f\"{metadata['live_time'][0]}\"]) # enter live time in seconds\n",
    "    writer.writerow(['131.6']) # enter detector energy resolution in eV\n",
    "    writer.writerow(['10']) # enter eV/channel\n",
    "    writer.writerow(['0']) # enter zero eV offset \n",
    "    writer.writerow(['2048']) # enter 2048 channels\n",
    "    writer.writerow('n') # we do NOT want to change any values\n",
    "    writer.writerow([f\"{material_system.value}\"]) # save the experimental conditions file (dfe) as the material system\n",
    "    \n",
    "    writer.writerow([f\"{material_system.value}.ukn\"]) # assign the .ukn file that we created above\n",
    "    writer.writerow('y') # YES we would like to calculate the minimum mass fraction (MMF)\n",
    "    writer.writerow('2') # choose 95% certainty to match errors of zeta factor\n",
    "    writer.writerow('1') # directly type in zeta factors\n",
    "    for i in elements.loc[list(sample_elements.value), 'Number']:\n",
    "        writer.writerow([\"{:0.3f}\".format(zfe_data.loc[zfe_data['atomic number'] == i, 'zeta'].item())])\n",
    "        writer.writerow([\"{:0.3f}\".format(zfe_data.loc[zfe_data['atomic number'] == i, 'zeta error'].item())])\n",
    "\n",
    "    writer.writerow('y') # calculate the atoms and spatial resolution\n",
    "    writer.writerow(['0.2']) # enter beam diameter in nm\n",
    "    writer.writerow('2') # confirm full width half max (FWHM)\n",
    "    writer.writerow('y') # create log file\n",
    "    writer.writerow(['exit'])"
   ]
  },
  {
   "cell_type": "code",
   "execution_count": null,
   "metadata": {},
   "outputs": [],
   "source": []
  },
  {
   "cell_type": "code",
   "execution_count": null,
   "metadata": {},
   "outputs": [],
   "source": []
  }
 ],
 "metadata": {
  "kernelspec": {
   "display_name": "Python 3",
   "language": "python",
   "name": "python3"
  },
  "language_info": {
   "codemirror_mode": {
    "name": "ipython",
    "version": 3
   },
   "file_extension": ".py",
   "mimetype": "text/x-python",
   "name": "python",
   "nbconvert_exporter": "python",
   "pygments_lexer": "ipython3",
   "version": "3.6.6"
  }
 },
 "nbformat": 4,
 "nbformat_minor": 2
}
